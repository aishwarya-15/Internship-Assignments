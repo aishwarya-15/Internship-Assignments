{
 "cells": [
  {
   "cell_type": "markdown",
   "metadata": {},
   "source": [
    "<h1><b>Basic Class"
   ]
  },
  {
   "cell_type": "code",
   "execution_count": 1,
   "metadata": {},
   "outputs": [],
   "source": [
    "class animals:\n",
    "    name=\"i am an animal\"\n",
    "    def run(self):\n",
    "        print(\"i am running\")"
   ]
  },
  {
   "cell_type": "code",
   "execution_count": 2,
   "metadata": {},
   "outputs": [],
   "source": [
    "animal1=animals()"
   ]
  },
  {
   "cell_type": "code",
   "execution_count": 3,
   "metadata": {},
   "outputs": [
    {
     "name": "stdout",
     "output_type": "stream",
     "text": [
      "i am running\n"
     ]
    }
   ],
   "source": [
    "animal1.run()"
   ]
  },
  {
   "cell_type": "code",
   "execution_count": 4,
   "metadata": {},
   "outputs": [
    {
     "data": {
      "text/plain": [
       "'i am an animal'"
      ]
     },
     "execution_count": 4,
     "metadata": {},
     "output_type": "execute_result"
    }
   ],
   "source": [
    "animal1.name"
   ]
  },
  {
   "cell_type": "markdown",
   "metadata": {},
   "source": [
    "<h1><b>Adding two variables"
   ]
  },
  {
   "cell_type": "code",
   "execution_count": 5,
   "metadata": {},
   "outputs": [],
   "source": [
    "class add():\n",
    "    def __init__(self,a,b):\n",
    "        self.a=a\n",
    "        self.b=b\n",
    "    def sum(self):\n",
    "        return self.a+self.b"
   ]
  },
  {
   "cell_type": "code",
   "execution_count": 6,
   "metadata": {},
   "outputs": [],
   "source": [
    "add1=add(4,6)"
   ]
  },
  {
   "cell_type": "code",
   "execution_count": 7,
   "metadata": {},
   "outputs": [
    {
     "data": {
      "text/plain": [
       "10"
      ]
     },
     "execution_count": 7,
     "metadata": {},
     "output_type": "execute_result"
    }
   ],
   "source": [
    "add1.sum()"
   ]
  },
  {
   "cell_type": "markdown",
   "metadata": {},
   "source": [
    "<h1><b>Inheritance"
   ]
  },
  {
   "cell_type": "code",
   "execution_count": 8,
   "metadata": {},
   "outputs": [],
   "source": [
    "# superclass\n",
    "class animals():\n",
    "    def __init__(self):\n",
    "        print(\"animal created\")\n",
    "    def name(self):\n",
    "        print(\"animal\")\n",
    "    def eat(self):\n",
    "        print(\"eating\")\n",
    "\n",
    "# base class\n",
    "class dog(animals):\n",
    "    def __init__(self):\n",
    "        animals.__init__(self)\n",
    "        print(\"dog created\")\n",
    "    def name(self):\n",
    "        print(\"dog\")\n",
    "    def bark(self):\n",
    "        print(\"woooofffffff\")"
   ]
  },
  {
   "cell_type": "code",
   "execution_count": 9,
   "metadata": {},
   "outputs": [
    {
     "name": "stdout",
     "output_type": "stream",
     "text": [
      "animal created\n",
      "dog created\n"
     ]
    }
   ],
   "source": [
    "obj1=dog()"
   ]
  },
  {
   "cell_type": "code",
   "execution_count": 10,
   "metadata": {},
   "outputs": [
    {
     "name": "stdout",
     "output_type": "stream",
     "text": [
      "eating\n"
     ]
    }
   ],
   "source": [
    "obj1.eat()"
   ]
  },
  {
   "cell_type": "code",
   "execution_count": 11,
   "metadata": {},
   "outputs": [
    {
     "name": "stdout",
     "output_type": "stream",
     "text": [
      "woooofffffff\n"
     ]
    }
   ],
   "source": [
    "obj1.bark()"
   ]
  },
  {
   "cell_type": "code",
   "execution_count": 12,
   "metadata": {},
   "outputs": [
    {
     "name": "stdout",
     "output_type": "stream",
     "text": [
      "dog\n"
     ]
    }
   ],
   "source": [
    "obj1.name()"
   ]
  },
  {
   "cell_type": "code",
   "execution_count": 13,
   "metadata": {},
   "outputs": [
    {
     "name": "stdout",
     "output_type": "stream",
     "text": [
      "animal created\n"
     ]
    }
   ],
   "source": [
    "obj2=animals()"
   ]
  },
  {
   "cell_type": "code",
   "execution_count": 14,
   "metadata": {},
   "outputs": [
    {
     "name": "stdout",
     "output_type": "stream",
     "text": [
      "animal\n"
     ]
    }
   ],
   "source": [
    "obj2.name()"
   ]
  },
  {
   "cell_type": "code",
   "execution_count": 15,
   "metadata": {},
   "outputs": [],
   "source": [
    "#parent class\n",
    "class quadriLateral:\n",
    "    def __init__(self, a, b, c, d):\n",
    "        self.side1=a\n",
    "        self.side2=b\n",
    "        self.side3=c\n",
    "        self.side4=d\n",
    "\n",
    "    def perimeter(self):\n",
    "        p=self.side1 + self.side2 + self.side3 + self.side4\n",
    "        print(\"perimeter=\",p)\n",
    "#child class\n",
    "class rectangle(quadriLateral):\n",
    "    def __init__(self, a, b):\n",
    "        super().__init__(a, b, a, b)\n",
    "    "
   ]
  },
  {
   "cell_type": "code",
   "execution_count": 16,
   "metadata": {},
   "outputs": [
    {
     "name": "stdout",
     "output_type": "stream",
     "text": [
      "perimeter= 22\n"
     ]
    }
   ],
   "source": [
    "q1=quadriLateral(7,5,6,4)\n",
    "q1.perimeter()"
   ]
  },
  {
   "cell_type": "code",
   "execution_count": 17,
   "metadata": {},
   "outputs": [],
   "source": [
    "r1=rectangle(4,5)"
   ]
  },
  {
   "cell_type": "code",
   "execution_count": 18,
   "metadata": {},
   "outputs": [
    {
     "name": "stdout",
     "output_type": "stream",
     "text": [
      "perimeter= 18\n"
     ]
    }
   ],
   "source": [
    "r1.perimeter()"
   ]
  },
  {
   "cell_type": "code",
   "execution_count": 19,
   "metadata": {},
   "outputs": [],
   "source": [
    "#parent class\n",
    "class person:\n",
    "    def __init__(self,name,age):\n",
    "        self.name=name\n",
    "        self.age=age\n",
    "    def print(self):\n",
    "        print(self.name)\n",
    "        print(self.age)\n",
    "#child class\n",
    "class student(person):\n",
    "    def __init__(self, name, age,city):\n",
    "        super().__init__(name, age)\n",
    "        self.city=city\n",
    "    def print(self):\n",
    "        print(self.name)\n",
    "        print(self.age)\n",
    "        print(self.city)"
   ]
  },
  {
   "cell_type": "code",
   "execution_count": 20,
   "metadata": {},
   "outputs": [],
   "source": [
    "stud=student('ais',19,'mdu')"
   ]
  },
  {
   "cell_type": "code",
   "execution_count": 21,
   "metadata": {},
   "outputs": [
    {
     "name": "stdout",
     "output_type": "stream",
     "text": [
      "ais\n",
      "19\n",
      "mdu\n"
     ]
    }
   ],
   "source": [
    "stud.print()"
   ]
  },
  {
   "cell_type": "code",
   "execution_count": 22,
   "metadata": {},
   "outputs": [],
   "source": [
    "std=person('asih',19)"
   ]
  },
  {
   "cell_type": "code",
   "execution_count": 23,
   "metadata": {},
   "outputs": [
    {
     "name": "stdout",
     "output_type": "stream",
     "text": [
      "asih\n",
      "19\n"
     ]
    }
   ],
   "source": [
    "std.print()"
   ]
  },
  {
   "cell_type": "code",
   "execution_count": 24,
   "metadata": {},
   "outputs": [],
   "source": [
    "class person:\n",
    "    def __init__(self,name1,age,city):\n",
    "        self.name=name1\n",
    "        self.age=age\n",
    "        self.city=city\n",
    "class student(person):\n",
    "    def __init__(self,name1,age,city,marks,subject):\n",
    "        super().__init__(name1,age,city)\n",
    "        self.marks=marks\n",
    "        self.subject=subject\n",
    "        \n",
    "    def printdetails(self):\n",
    "        return(self.name,self.age,self.subject)"
   ]
  },
  {
   "cell_type": "code",
   "execution_count": 25,
   "metadata": {},
   "outputs": [],
   "source": [
    "s=student('aiss',19,'mdu',99,'sci')"
   ]
  },
  {
   "cell_type": "code",
   "execution_count": 26,
   "metadata": {},
   "outputs": [
    {
     "data": {
      "text/plain": [
       "('aiss', 19, 'sci')"
      ]
     },
     "execution_count": 26,
     "metadata": {},
     "output_type": "execute_result"
    }
   ],
   "source": [
    "s.printdetails()"
   ]
  },
  {
   "cell_type": "code",
   "execution_count": 1,
   "metadata": {},
   "outputs": [
    {
     "name": "stdout",
     "output_type": "stream",
     "text": [
      "i am a fruit\n",
      "i am citrus\n"
     ]
    }
   ],
   "source": [
    "class fruit:\n",
    "    def __init__(self):\n",
    "        print(\"i am a fruit\")\n",
    "class citrus(fruit):\n",
    "    def __init__(self):\n",
    "        super().__init__()\n",
    "        print(\"i am citrus\")\n",
    "lemon=citrus()"
   ]
  },
  {
   "cell_type": "markdown",
   "metadata": {},
   "source": [
    "<h2><b>Multiple inheritance"
   ]
  },
  {
   "cell_type": "code",
   "execution_count": 3,
   "metadata": {},
   "outputs": [
    {
     "data": {
      "text/plain": [
       "True"
      ]
     },
     "execution_count": 3,
     "metadata": {},
     "output_type": "execute_result"
    }
   ],
   "source": [
    "class A:\n",
    "    pass\n",
    "class B:\n",
    "    pass\n",
    "class C(A,B):\n",
    "    pass\n",
    "issubclass(C,A)"
   ]
  },
  {
   "cell_type": "markdown",
   "metadata": {},
   "source": [
    "## <b>Multilevel Inheritance"
   ]
  },
  {
   "cell_type": "code",
   "execution_count": 9,
   "metadata": {},
   "outputs": [
    {
     "name": "stdout",
     "output_type": "stream",
     "text": [
      "x: 10\n",
      "y: 11\n",
      "z: 15\n"
     ]
    }
   ],
   "source": [
    "class A:\n",
    "    x=10\n",
    "class B(A):\n",
    "    y=11\n",
    "class C(B):\n",
    "    z=15\n",
    "c=C()\n",
    "print(\"x:\",c.x)\n",
    "print(\"y:\",c.y)\n",
    "print(\"z:\",c.z)"
   ]
  },
  {
   "cell_type": "markdown",
   "metadata": {},
   "source": [
    "## <b> Hybrid Inheritance"
   ]
  },
  {
   "cell_type": "code",
   "execution_count": 31,
   "metadata": {},
   "outputs": [
    {
     "name": "stdout",
     "output_type": "stream",
     "text": [
      "x: 1\n",
      "y: 2\n",
      "z: 5\n"
     ]
    }
   ],
   "source": [
    "class A:\n",
    "    x=1\n",
    "class B(B):\n",
    "    y=2\n",
    "class C(A,B):\n",
    "    z=5\n",
    "c=C()\n",
    "print(\"x:\",c.x)\n",
    "print(\"y:\",c.y)\n",
    "print(\"z:\",c.z)"
   ]
  },
  {
   "cell_type": "code",
   "execution_count": 32,
   "metadata": {},
   "outputs": [
    {
     "name": "stdout",
     "output_type": "stream",
     "text": [
      "I am a vehicle\n",
      "I am a Two wheeler\n",
      "Starting Vehicle\n",
      "Stoping vehicle\n"
     ]
    }
   ],
   "source": [
    "class Vehicle:\n",
    "    def __init__(self):\n",
    "        print(\"I am a vehicle\")\n",
    "    def start(self):\n",
    "        print(\"Starting Vehicle\")\n",
    "    def stop(self):\n",
    "        print(\"Stoping vehicle\")\n",
    "class twoWheeler(vehicle):\n",
    "    def __init__(self):\n",
    "        super().__init__()\n",
    "        print(\"I am a Two wheeler\")\n",
    "    def say(self):\n",
    "        super().start()\n",
    "        super().stop()\n",
    "bullet = twoWheeler() \n",
    "bullet.say()"
   ]
  },
  {
   "cell_type": "markdown",
   "metadata": {},
   "source": [
    "## Overloading"
   ]
  },
  {
   "cell_type": "code",
   "execution_count": 34,
   "metadata": {},
   "outputs": [
    {
     "data": {
      "text/plain": [
       "9"
      ]
     },
     "execution_count": 34,
     "metadata": {},
     "output_type": "execute_result"
    }
   ],
   "source": [
    "def add(a,b):\n",
    "    return a+b\n",
    "\n",
    "def add(a,b,c):\n",
    "    return a+b+c\n",
    "\n",
    "add(2,3,4)"
   ]
  },
  {
   "cell_type": "code",
   "execution_count": 39,
   "metadata": {},
   "outputs": [
    {
     "name": "stdout",
     "output_type": "stream",
     "text": [
      "None\n",
      "hellohi\n"
     ]
    }
   ],
   "source": [
    "def add(instanceOf,*args):\n",
    "    if instanceOf == 'int':\n",
    "        result=0\n",
    "    if instanceOf == 'str':\n",
    "        result=''\n",
    "        for i in args:\n",
    "            result+=i\n",
    "        return result\n",
    "print(add('int',2,3,4))\n",
    "print(add('str','hello','hi'))"
   ]
  },
  {
   "cell_type": "markdown",
   "metadata": {},
   "source": [
    "## Overriding a Function"
   ]
  },
  {
   "cell_type": "code",
   "execution_count": 41,
   "metadata": {},
   "outputs": [
    {
     "name": "stdout",
     "output_type": "stream",
     "text": [
      "I'm in B\n"
     ]
    }
   ],
   "source": [
    "class A:\n",
    "    def say(self):\n",
    "        print(\"I'm in A\")\n",
    "class B:\n",
    "    def say(self):\n",
    "        print(\"I'm in B\")\n",
    "bobj=B()\n",
    "bobj.say()"
   ]
  },
  {
   "cell_type": "markdown",
   "metadata": {},
   "source": [
    "## Encapsulation"
   ]
  },
  {
   "cell_type": "code",
   "execution_count": null,
   "metadata": {},
   "outputs": [],
   "source": []
  },
  {
   "cell_type": "markdown",
   "metadata": {},
   "source": [
    "## Private Method __"
   ]
  },
  {
   "cell_type": "code",
   "execution_count": 52,
   "metadata": {},
   "outputs": [
    {
     "name": "stdout",
     "output_type": "stream",
     "text": [
      "Updating software\n"
     ]
    }
   ],
   "source": [
    "class car:\n",
    "    def __init__(self):\n",
    "        self.__updateSoftware()\n",
    "    def drive(self):\n",
    "        print(\"Driving\")\n",
    "    def __updateSoftware(self):\n",
    "        print(\"Updating software\")\n",
    "carobj=car()"
   ]
  },
  {
   "cell_type": "code",
   "execution_count": 57,
   "metadata": {},
   "outputs": [
    {
     "name": "stdout",
     "output_type": "stream",
     "text": [
      "Driving\n"
     ]
    },
    {
     "ename": "AttributeError",
     "evalue": "'car' object has no attribute '__updateSoftware'",
     "output_type": "error",
     "traceback": [
      "\u001b[1;31m---------------------------------------------------------------------------\u001b[0m",
      "\u001b[1;31mAttributeError\u001b[0m                            Traceback (most recent call last)",
      "\u001b[1;32m<ipython-input-57-ba376d127795>\u001b[0m in \u001b[0;36m<module>\u001b[1;34m\u001b[0m\n\u001b[0;32m      1\u001b[0m \u001b[0mcarobj\u001b[0m\u001b[1;33m.\u001b[0m\u001b[0mdrive\u001b[0m\u001b[1;33m(\u001b[0m\u001b[1;33m)\u001b[0m\u001b[1;33m\u001b[0m\u001b[0m\n\u001b[1;32m----> 2\u001b[1;33m \u001b[0mcarobj\u001b[0m\u001b[1;33m.\u001b[0m\u001b[0m__updateSoftware\u001b[0m\u001b[1;33m(\u001b[0m\u001b[1;33m)\u001b[0m\u001b[1;33m\u001b[0m\u001b[0m\n\u001b[0m",
      "\u001b[1;31mAttributeError\u001b[0m: 'car' object has no attribute '__updateSoftware'"
     ]
    }
   ],
   "source": [
    "carobj.drive()\n",
    "carobj.__updateSoftware()"
   ]
  },
  {
   "cell_type": "code",
   "execution_count": 63,
   "metadata": {},
   "outputs": [
    {
     "name": "stdout",
     "output_type": "stream",
     "text": [
      "Updating software\n",
      "Driving\n",
      "Updating software\n"
     ]
    }
   ],
   "source": [
    "class car:\n",
    "    def __init__(self):\n",
    "        self.updateSoftware()\n",
    "    def drive(self):\n",
    "        print(\"Driving\")\n",
    "    def updateSoftware(self):\n",
    "        print(\"Updating software\")\n",
    "carobj=car()\n",
    "carobj.drive()\n",
    "carobj.updateSoftware()"
   ]
  },
  {
   "cell_type": "markdown",
   "metadata": {},
   "source": [
    "## Polymorphism"
   ]
  },
  {
   "cell_type": "code",
   "execution_count": 64,
   "metadata": {},
   "outputs": [
    {
     "name": "stdout",
     "output_type": "stream",
     "text": [
      " My name is Shark.\n",
      " My name is Clown fish.\n"
     ]
    }
   ],
   "source": [
    "class Shark:\n",
    "    def __init__(self, name):\n",
    "        self.name = name\n",
    "\n",
    "    def swim(self):\n",
    "        print(f\" My name is {self.name}.\")\n",
    "\n",
    "    def skeleton(self):\n",
    "        print(\"Has Skeleton\")\n",
    "\n",
    "\n",
    "class ClownFish:\n",
    "    def __init__(self, name):\n",
    "        self.name = name\n",
    "\n",
    "    def swim(self):\n",
    "        print(f\" My name is {self.name}.\")\n",
    "        \n",
    "    def skeleton(self):\n",
    "        print(\"Has Skeleton\")\n",
    "\n",
    "\n",
    "shark = Shark(\"Shark\")\n",
    "clown= ClownFish(\"Clown fish\")\n",
    "shark.swim()\n",
    "clown.swim()"
   ]
  }
 ],
 "metadata": {
  "kernelspec": {
   "display_name": "Python 3",
   "language": "python",
   "name": "python3"
  },
  "language_info": {
   "codemirror_mode": {
    "name": "ipython",
    "version": 3
   },
   "file_extension": ".py",
   "mimetype": "text/x-python",
   "name": "python",
   "nbconvert_exporter": "python",
   "pygments_lexer": "ipython3",
   "version": "3.6.0"
  }
 },
 "nbformat": 4,
 "nbformat_minor": 4
}
